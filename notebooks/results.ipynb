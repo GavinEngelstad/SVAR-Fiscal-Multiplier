{
 "cells": [
  {
   "cell_type": "markdown",
   "metadata": {},
   "source": [
    "## Results"
   ]
  },
  {
   "cell_type": "markdown",
   "metadata": {},
   "source": [
    "#### Config"
   ]
  },
  {
   "cell_type": "code",
   "execution_count": null,
   "metadata": {},
   "outputs": [],
   "source": [
    "## load some packages\n",
    "from pandas_datareader.fred import FredReader  # gets data without a bunch of csvs\n",
    "from scipy.signal import detrend  # detrend series\n",
    "import matplotlib.pyplot as plt  # make plots\n",
    "import statsmodels.api as sm  # regressions\n",
    "import numpy as np  # math things\n",
    "\n",
    "# fonts look pretty\n",
    "plt.rcParams.update({\n",
    "        'text.usetex': True,\n",
    "        'font.family': 'serif',\n",
    "    })"
   ]
  },
  {
   "cell_type": "markdown",
   "metadata": {},
   "source": [
    "#### Data"
   ]
  },
  {
   "cell_type": "code",
   "execution_count": 2,
   "metadata": {},
   "outputs": [
    {
     "data": {
      "text/html": [
       "<div>\n",
       "<style scoped>\n",
       "    .dataframe tbody tr th:only-of-type {\n",
       "        vertical-align: middle;\n",
       "    }\n",
       "\n",
       "    .dataframe tbody tr th {\n",
       "        vertical-align: top;\n",
       "    }\n",
       "\n",
       "    .dataframe thead th {\n",
       "        text-align: right;\n",
       "    }\n",
       "</style>\n",
       "<table border=\"1\" class=\"dataframe\">\n",
       "  <thead>\n",
       "    <tr style=\"text-align: right;\">\n",
       "      <th></th>\n",
       "      <th>gdp</th>\n",
       "      <th>gov</th>\n",
       "      <th>tax</th>\n",
       "    </tr>\n",
       "    <tr>\n",
       "      <th>DATE</th>\n",
       "      <th></th>\n",
       "      <th></th>\n",
       "      <th></th>\n",
       "    </tr>\n",
       "  </thead>\n",
       "  <tbody>\n",
       "    <tr>\n",
       "      <th>1960-01-01</th>\n",
       "      <td>-6.207381</td>\n",
       "      <td>-15.411893</td>\n",
       "      <td>2.433646</td>\n",
       "    </tr>\n",
       "    <tr>\n",
       "      <th>1960-04-01</th>\n",
       "      <td>-7.552969</td>\n",
       "      <td>-15.118566</td>\n",
       "      <td>-0.275316</td>\n",
       "    </tr>\n",
       "    <tr>\n",
       "      <th>1960-07-01</th>\n",
       "      <td>-7.866166</td>\n",
       "      <td>-12.774345</td>\n",
       "      <td>-2.048241</td>\n",
       "    </tr>\n",
       "    <tr>\n",
       "      <th>1960-10-01</th>\n",
       "      <td>-9.961823</td>\n",
       "      <td>-12.190004</td>\n",
       "      <td>-4.701228</td>\n",
       "    </tr>\n",
       "    <tr>\n",
       "      <th>1961-01-01</th>\n",
       "      <td>-10.095264</td>\n",
       "      <td>-11.569745</td>\n",
       "      <td>-5.804134</td>\n",
       "    </tr>\n",
       "    <tr>\n",
       "      <th>...</th>\n",
       "      <td>...</td>\n",
       "      <td>...</td>\n",
       "      <td>...</td>\n",
       "    </tr>\n",
       "    <tr>\n",
       "      <th>2006-10-01</th>\n",
       "      <td>-1.566638</td>\n",
       "      <td>2.143878</td>\n",
       "      <td>8.361621</td>\n",
       "    </tr>\n",
       "    <tr>\n",
       "      <th>2007-01-01</th>\n",
       "      <td>-2.070254</td>\n",
       "      <td>2.162052</td>\n",
       "      <td>9.050781</td>\n",
       "    </tr>\n",
       "    <tr>\n",
       "      <th>2007-04-01</th>\n",
       "      <td>-2.263960</td>\n",
       "      <td>2.676012</td>\n",
       "      <td>8.469576</td>\n",
       "    </tr>\n",
       "    <tr>\n",
       "      <th>2007-07-01</th>\n",
       "      <td>-2.494009</td>\n",
       "      <td>2.851833</td>\n",
       "      <td>6.210542</td>\n",
       "    </tr>\n",
       "    <tr>\n",
       "      <th>2007-10-01</th>\n",
       "      <td>-2.670998</td>\n",
       "      <td>3.764866</td>\n",
       "      <td>5.170920</td>\n",
       "    </tr>\n",
       "  </tbody>\n",
       "</table>\n",
       "<p>192 rows × 3 columns</p>\n",
       "</div>"
      ],
      "text/plain": [
       "                  gdp        gov       tax\n",
       "DATE                                      \n",
       "1960-01-01  -6.207381 -15.411893  2.433646\n",
       "1960-04-01  -7.552969 -15.118566 -0.275316\n",
       "1960-07-01  -7.866166 -12.774345 -2.048241\n",
       "1960-10-01  -9.961823 -12.190004 -4.701228\n",
       "1961-01-01 -10.095264 -11.569745 -5.804134\n",
       "...               ...        ...       ...\n",
       "2006-10-01  -1.566638   2.143878  8.361621\n",
       "2007-01-01  -2.070254   2.162052  9.050781\n",
       "2007-04-01  -2.263960   2.676012  8.469576\n",
       "2007-07-01  -2.494009   2.851833  6.210542\n",
       "2007-10-01  -2.670998   3.764866  5.170920\n",
       "\n",
       "[192 rows x 3 columns]"
      ]
     },
     "execution_count": 2,
     "metadata": {},
     "output_type": "execute_result"
    }
   ],
   "source": [
    "## data config\n",
    "start = '1960-01'\n",
    "end = '2007-12'\n",
    "series = {\n",
    "        'GDPDEF': 'gdpdef',  # gdp deflator\n",
    "        'GDP': 'gdp',  # gdp\n",
    "        'GCE': 'gov',  # govt spending\n",
    "        'W006RC1Q027SBEA': 'tax',  # tax revenues\n",
    "    }\n",
    "\n",
    "## pull data\n",
    "## pull the data\n",
    "df = FredReader(series.keys(), start=start, end=end).read().rename(columns=series).dropna()\n",
    "\n",
    "## adjust series\n",
    "df = df[['gdp', 'gov', 'tax']].div(df['gdpdef'], axis=0)\n",
    "# predetrend, want to know how much higher gdp is than gov\n",
    "# so when we know 1% change in gov -> 1% change in gdp we can muliply it by that\n",
    "mult = (df['gdp'] / df['gov']).mean()\n",
    "for x in df.columns:\n",
    "    df[x] = detrend(np.log(df[x])) * 100\n",
    "\n",
    "df"
   ]
  },
  {
   "cell_type": "markdown",
   "metadata": {},
   "source": [
    "#### Results\n",
    "$A = $ matrix multiplied by movements ($u$)\n",
    "\n",
    "$B = $ matrix multiplied by error ($\\varepsilon$)"
   ]
  },
  {
   "cell_type": "markdown",
   "metadata": {},
   "source": [
    "#### Model 1\n",
    "Set $b_2 = 0$"
   ]
  },
  {
   "cell_type": "code",
   "execution_count": null,
   "metadata": {},
   "outputs": [
    {
     "name": "stderr",
     "output_type": "stream",
     "text": [
      "/opt/miniconda3/lib/python3.12/site-packages/statsmodels/tsa/base/tsa_model.py:473: ValueWarning: No frequency information was provided, so inferred frequency QS-OCT will be used.\n",
      "  self._init_dates(dates, freq)\n"
     ]
    },
    {
     "name": "stdout",
     "output_type": "stream",
     "text": [
      "A: [[ 1.         -0.18248699 -0.1496774 ]\n",
      " [ 0.          1.          0.        ]\n",
      " [ 1.7         0.          1.        ]]\n",
      "B: [[1.         0.         0.        ]\n",
      " [0.         1.         0.        ]\n",
      " [0.         0.82593434 1.        ]]\n"
     ]
    },
    {
     "data": {
      "text/plain": [
       "(0.990279778243143, 0.11525542641090192)"
      ]
     },
     "execution_count": 11,
     "metadata": {},
     "output_type": "execute_result"
    },
    {
     "data": {
      "image/png": "[encoded data removed]",
      "text/plain": [
       "<Figure size 425x175 with 3 Axes>"
      ]
     },
     "metadata": {},
     "output_type": "display_data"
    }
   ],
   "source": [
    "## svar\n",
    "A = np.array([[1, 'E', 'E'], [0, 1, 0], [1.7, 0, 1]])\n",
    "B = np.array([[1, 0, 0], [0, 1, 0], [0, 'E', 1]])\n",
    "svar = sm.tsa.SVAR(df, svar_type='AB', A=A, B=B).fit(maxlags=4, solver='ncg')\n",
    "# theres some frequency warning, I havent looked into how to stop that\n",
    "print('A:', svar.A)\n",
    "print('B:', svar.B)\n",
    "\n",
    "## get the irf\n",
    "T = 25\n",
    "i = 2\n",
    "irf = svar.irf(periods=T)\n",
    "g_irf = irf.svar_irfs[:, :, i].T  # irf for a g shock\n",
    "g_irf /= g_irf[2, 0]\n",
    "g_irf_err = irf.stderr()[:, :, i].T / g_irf[2, 0]  # error band\n",
    "\n",
    "## plot it (responce to g shock)\n",
    "# plot setup\n",
    "fig, axs = plt.subplots(1, 3, sharex=True)\n",
    "fig.set_figheight(2.5)\n",
    "fig.set_figwidth(6.5)\n",
    "fig.supylabel(r'\\% Dev. From Trend')\n",
    "fig.supxlabel('Quarters After Shock')\n",
    "axs[0].set_title('GDP')\n",
    "axs[1].set_title('Revenue')\n",
    "axs[2].set_title('Spending')\n",
    "\n",
    "# plot the irfs\n",
    "for i, ax in enumerate(axs):\n",
    "    ax.axhline(0, c='k', linewidth=1)\n",
    "    ax.fill_between(np.arange(T + 1), g_irf[i] - g_irf_err[i], g_irf[i] + g_irf_err[i], color='lightgray')\n",
    "    ax.plot(g_irf[i], c='k')\n",
    "\n",
    "# final things\n",
    "fig.tight_layout()\n",
    "fig.savefig('paper/figures/b20_irf.pdf', bbox_inches='tight')\n",
    "\n",
    "## get the multiplier\n",
    "idx = np.abs(g_irf[0]).argmax()\n",
    "max_gdp_change = g_irf[0, idx]\n",
    "max_gdp_err = g_irf_err[0, idx]\n",
    "multiplier = max_gdp_change * mult  # make comprable units\n",
    "multiplier_err = max_gdp_err * mult\n",
    "\n",
    "multiplier, multiplier_err"
   ]
  },
  {
   "cell_type": "markdown",
   "metadata": {},
   "source": [
    "#### Model 2\n",
    "Set $c_2 = 0$"
   ]
  },
  {
   "cell_type": "code",
   "execution_count": null,
   "metadata": {},
   "outputs": [
    {
     "name": "stderr",
     "output_type": "stream",
     "text": [
      "/opt/miniconda3/lib/python3.12/site-packages/statsmodels/tsa/base/tsa_model.py:473: ValueWarning: No frequency information was provided, so inferred frequency QS-OCT will be used.\n",
      "  self._init_dates(dates, freq)\n",
      "/opt/miniconda3/lib/python3.12/site-packages/statsmodels/base/optimizer.py:19: FutureWarning: Keyword arguments have been passed to the optimizer that have no effect. The list of allowed keyword arguments for method ncg is: fhess_p, avextol, epsilon. The list of unsupported keyword arguments passed include: gtol. After release 0.14, this will raise.\n",
      "  warnings.warn(\n"
     ]
    },
    {
     "name": "stdout",
     "output_type": "stream",
     "text": [
      "A: [[ 1.         -0.18248685 -0.14967739]\n",
      " [ 0.          1.          0.        ]\n",
      " [ 1.7         0.          1.        ]]\n",
      "B: [[1.         0.         0.        ]\n",
      " [0.         1.         0.04029519]\n",
      " [0.         0.         1.        ]]\n"
     ]
    },
    {
     "data": {
      "text/plain": [
       "(1.0352296076039953, 0.11525542641090192)"
      ]
     },
     "execution_count": 10,
     "metadata": {},
     "output_type": "execute_result"
    },
    {
     "data": {
      "image/png": "[encoded data removed]",
      "text/plain": [
       "<Figure size 425x175 with 3 Axes>"
      ]
     },
     "metadata": {},
     "output_type": "display_data"
    }
   ],
   "source": [
    "## svar\n",
    "A = np.array([[1, 'E', 'E'], [0, 1, 0], [1.7, 0, 1]])\n",
    "B = np.array([[1, 0, 0], [0, 1, 'E'], [0, 0, 1]])\n",
    "svar = sm.tsa.SVAR(df, svar_type='AB', A=A, B=B).fit(maxlags=4, solver='ncg')\n",
    "# theres some frequency warning, I havent looked into how to stop that\n",
    "print('A:', svar.A)\n",
    "print('B:', svar.B)\n",
    "\n",
    "## get the irf\n",
    "T = 25\n",
    "i = 2\n",
    "irf = svar.irf(periods=T)\n",
    "g_irf = irf.svar_irfs[:, :, i].T  # irf for a g shock\n",
    "g_irf /= g_irf[2, 0]\n",
    "g_irf_err = irf.stderr()[:, :, i].T / g_irf[2, 0]  # error band\n",
    "\n",
    "## plot it (responce to g shock)\n",
    "# plot setup\n",
    "fig, axs = plt.subplots(1, 3, sharex=True)\n",
    "fig.set_figheight(2.5)\n",
    "fig.set_figwidth(6.5)\n",
    "fig.supylabel(r'\\% Dev. From Trend')\n",
    "fig.supxlabel('Quarters After Shock')\n",
    "axs[0].set_title('GDP')\n",
    "axs[1].set_title('Revenue')\n",
    "axs[2].set_title('Spending')\n",
    "\n",
    "# plot the irfs\n",
    "for i, ax in enumerate(axs):\n",
    "    ax.axhline(0, c='k', linewidth=1)\n",
    "    ax.fill_between(np.arange(T + 1), g_irf[i] - g_irf_err[i], g_irf[i] + g_irf_err[i], color='lightgray')\n",
    "    ax.plot(g_irf[i], c='k')\n",
    "\n",
    "# final things\n",
    "fig.tight_layout()\n",
    "fig.savefig('paper/figures/c20_irf.pdf', bbox_inches='tight')\n",
    "\n",
    "## get the multiplier\n",
    "idx = np.abs(g_irf[0]).argmax()\n",
    "max_gdp_change = g_irf[0, idx]\n",
    "max_gdp_err = g_irf_err[0, idx]\n",
    "multiplier = max_gdp_change * mult  # make comprable units\n",
    "multiplier_err = max_gdp_err * mult\n",
    "\n",
    "multiplier, multiplier_err"
   ]
  }
 ],
 "metadata": {
  "kernelspec": {
   "display_name": "base",
   "language": "python",
   "name": "python3"
  },
  "language_info": {
   "codemirror_mode": {
    "name": "ipython",
    "version": 3
   },
   "file_extension": ".py",
   "mimetype": "text/x-python",
   "name": "python",
   "nbconvert_exporter": "python",
   "pygments_lexer": "ipython3",
   "version": "3.12.7"
  }
 },
 "nbformat": 4,
 "nbformat_minor": 2
}
