{
 "cells": [
  {
   "cell_type": "markdown",
   "metadata": {},
   "source": [
    "#### Data"
   ]
  },
  {
   "cell_type": "markdown",
   "metadata": {},
   "source": [
    "#### Config"
   ]
  },
  {
   "cell_type": "code",
   "execution_count": null,
   "metadata": {},
   "outputs": [],
   "source": [
    "## load some packages\n",
    "from pandas_datareader.fred import FredReader  # gets data without a bunch of csvs\n",
    "from scipy.signal import detrend  # detrend series\n",
    "import matplotlib.pyplot as plt  # make plots\n",
    "import numpy as np  # math things\n",
    "\n",
    "# fonts look pretty\n",
    "plt.rcParams.update({\n",
    "        'text.usetex': True,\n",
    "        'font.family': 'serif',\n",
    "    })"
   ]
  },
  {
   "cell_type": "markdown",
   "metadata": {},
   "source": [
    "#### Pull Data"
   ]
  },
  {
   "cell_type": "code",
   "execution_count": 2,
   "metadata": {},
   "outputs": [
    {
     "data": {
      "text/html": [
       "<div>\n",
       "<style scoped>\n",
       "    .dataframe tbody tr th:only-of-type {\n",
       "        vertical-align: middle;\n",
       "    }\n",
       "\n",
       "    .dataframe tbody tr th {\n",
       "        vertical-align: top;\n",
       "    }\n",
       "\n",
       "    .dataframe thead th {\n",
       "        text-align: right;\n",
       "    }\n",
       "</style>\n",
       "<table border=\"1\" class=\"dataframe\">\n",
       "  <thead>\n",
       "    <tr style=\"text-align: right;\">\n",
       "      <th></th>\n",
       "      <th>gdp</th>\n",
       "      <th>gov</th>\n",
       "      <th>tax</th>\n",
       "    </tr>\n",
       "    <tr>\n",
       "      <th>DATE</th>\n",
       "      <th></th>\n",
       "      <th></th>\n",
       "      <th></th>\n",
       "    </tr>\n",
       "  </thead>\n",
       "  <tbody>\n",
       "    <tr>\n",
       "      <th>1960-01-01</th>\n",
       "      <td>-6.207381</td>\n",
       "      <td>-15.411893</td>\n",
       "      <td>2.433646</td>\n",
       "    </tr>\n",
       "    <tr>\n",
       "      <th>1960-04-01</th>\n",
       "      <td>-7.552969</td>\n",
       "      <td>-15.118566</td>\n",
       "      <td>-0.275316</td>\n",
       "    </tr>\n",
       "    <tr>\n",
       "      <th>1960-07-01</th>\n",
       "      <td>-7.866166</td>\n",
       "      <td>-12.774345</td>\n",
       "      <td>-2.048241</td>\n",
       "    </tr>\n",
       "    <tr>\n",
       "      <th>1960-10-01</th>\n",
       "      <td>-9.961823</td>\n",
       "      <td>-12.190004</td>\n",
       "      <td>-4.701228</td>\n",
       "    </tr>\n",
       "    <tr>\n",
       "      <th>1961-01-01</th>\n",
       "      <td>-10.095264</td>\n",
       "      <td>-11.569745</td>\n",
       "      <td>-5.804134</td>\n",
       "    </tr>\n",
       "    <tr>\n",
       "      <th>...</th>\n",
       "      <td>...</td>\n",
       "      <td>...</td>\n",
       "      <td>...</td>\n",
       "    </tr>\n",
       "    <tr>\n",
       "      <th>2006-10-01</th>\n",
       "      <td>-1.566638</td>\n",
       "      <td>2.143878</td>\n",
       "      <td>8.361621</td>\n",
       "    </tr>\n",
       "    <tr>\n",
       "      <th>2007-01-01</th>\n",
       "      <td>-2.070254</td>\n",
       "      <td>2.162052</td>\n",
       "      <td>9.050781</td>\n",
       "    </tr>\n",
       "    <tr>\n",
       "      <th>2007-04-01</th>\n",
       "      <td>-2.263960</td>\n",
       "      <td>2.676012</td>\n",
       "      <td>8.469576</td>\n",
       "    </tr>\n",
       "    <tr>\n",
       "      <th>2007-07-01</th>\n",
       "      <td>-2.494009</td>\n",
       "      <td>2.851833</td>\n",
       "      <td>6.210542</td>\n",
       "    </tr>\n",
       "    <tr>\n",
       "      <th>2007-10-01</th>\n",
       "      <td>-2.670998</td>\n",
       "      <td>3.764866</td>\n",
       "      <td>5.170920</td>\n",
       "    </tr>\n",
       "  </tbody>\n",
       "</table>\n",
       "<p>192 rows × 3 columns</p>\n",
       "</div>"
      ],
      "text/plain": [
       "                  gdp        gov       tax\n",
       "DATE                                      \n",
       "1960-01-01  -6.207381 -15.411893  2.433646\n",
       "1960-04-01  -7.552969 -15.118566 -0.275316\n",
       "1960-07-01  -7.866166 -12.774345 -2.048241\n",
       "1960-10-01  -9.961823 -12.190004 -4.701228\n",
       "1961-01-01 -10.095264 -11.569745 -5.804134\n",
       "...               ...        ...       ...\n",
       "2006-10-01  -1.566638   2.143878  8.361621\n",
       "2007-01-01  -2.070254   2.162052  9.050781\n",
       "2007-04-01  -2.263960   2.676012  8.469576\n",
       "2007-07-01  -2.494009   2.851833  6.210542\n",
       "2007-10-01  -2.670998   3.764866  5.170920\n",
       "\n",
       "[192 rows x 3 columns]"
      ]
     },
     "execution_count": 2,
     "metadata": {},
     "output_type": "execute_result"
    }
   ],
   "source": [
    "## data config\n",
    "start = '1960-01'\n",
    "end = '2007-12'\n",
    "series = {\n",
    "        'GDPDEF': 'gdpdef',  # gdp deflator\n",
    "        'GDP': 'gdp',  # gdp\n",
    "        'GCE': 'gov',  # govt spending\n",
    "        'W006RC1Q027SBEA': 'tax',  # tax revenues\n",
    "    }\n",
    "\n",
    "## pull data\n",
    "## pull the data\n",
    "df = FredReader(series.keys(), start=start, end=end).read().rename(columns=series).dropna()\n",
    "\n",
    "## adjust series\n",
    "df = df[['gdp', 'gov', 'tax']].div(df['gdpdef'], axis=0)\n",
    "for x in df.columns:\n",
    "    df[x] = detrend(np.log(df[x])) * 100\n",
    "\n",
    "df"
   ]
  },
  {
   "cell_type": "markdown",
   "metadata": {},
   "source": [
    "#### Plot It"
   ]
  },
  {
   "cell_type": "code",
   "execution_count": null,
   "metadata": {},
   "outputs": [
    {
     "data": {
      "image/png": "[encoded data removed]",
      "text/plain": [
       "<Figure size 400x300 with 3 Axes>"
      ]
     },
     "metadata": {},
     "output_type": "display_data"
    }
   ],
   "source": [
    "## plot setup\n",
    "fig, axs = plt.subplots(3, sharex=True)\n",
    "fig.set_figwidth(6.5)\n",
    "fig.set_figheight(5)\n",
    "fig.supxlabel('Quarter')\n",
    "fig.supylabel(r'\\% Deviation From Trend')\n",
    "\n",
    "# gdp\n",
    "axs[0].set_title('GDP')\n",
    "axs[0].plot(df.index, df['gdp'], 'k-', linewidth=1)\n",
    "\n",
    "# gov\n",
    "axs[1].set_title('Government Spending')\n",
    "axs[1].plot(df.index, df['gov'], 'k-', linewidth=1)\n",
    "\n",
    "# tax\n",
    "axs[2].set_title('Government Revenue')\n",
    "axs[2].plot(df.index, df['tax'], 'k-', linewidth=1)\n",
    "\n",
    "## final things\n",
    "fig.tight_layout()\n",
    "fig.savefig('paper/figures/detrended_data.pdf', bbox_inches='tight')"
   ]
  }
 ],
 "metadata": {
  "kernelspec": {
   "display_name": "base",
   "language": "python",
   "name": "python3"
  },
  "language_info": {
   "codemirror_mode": {
    "name": "ipython",
    "version": 3
   },
   "file_extension": ".py",
   "mimetype": "text/x-python",
   "name": "python",
   "nbconvert_exporter": "python",
   "pygments_lexer": "ipython3",
   "version": "3.12.7"
  }
 },
 "nbformat": 4,
 "nbformat_minor": 2
}
