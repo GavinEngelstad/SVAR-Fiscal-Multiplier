{
 "cells": [
  {
   "cell_type": "markdown",
   "metadata": {},
   "source": [
    "## Growth vs Business Cycles"
   ]
  },
  {
   "cell_type": "markdown",
   "metadata": {},
   "source": [
    "#### Config"
   ]
  },
  {
   "cell_type": "code",
   "execution_count": null,
   "metadata": {},
   "outputs": [],
   "source": [
    "## load some packages\n",
    "from pandas_datareader.fred import FredReader  # gets data without a bunch of csvs\n",
    "import matplotlib.pyplot as plt  # make plots\n",
    "import statsmodels.api as sm  # regressions\n",
    "import numpy as np  # math things\n",
    "\n",
    "# fonts look pretty\n",
    "plt.rcParams.update({\n",
    "        'text.usetex': True,\n",
    "        'font.family': 'serif',\n",
    "    })"
   ]
  },
  {
   "cell_type": "markdown",
   "metadata": {},
   "source": [
    "#### Data"
   ]
  },
  {
   "cell_type": "code",
   "execution_count": 39,
   "metadata": {},
   "outputs": [
    {
     "data": {
      "text/html": [
       "<div>\n",
       "<style scoped>\n",
       "    .dataframe tbody tr th:only-of-type {\n",
       "        vertical-align: middle;\n",
       "    }\n",
       "\n",
       "    .dataframe tbody tr th {\n",
       "        vertical-align: top;\n",
       "    }\n",
       "\n",
       "    .dataframe thead th {\n",
       "        text-align: right;\n",
       "    }\n",
       "</style>\n",
       "<table border=\"1\" class=\"dataframe\">\n",
       "  <thead>\n",
       "    <tr style=\"text-align: right;\">\n",
       "      <th></th>\n",
       "      <th>gdpdef</th>\n",
       "      <th>gdp</th>\n",
       "      <th>pop</th>\n",
       "      <th>rgdppc</th>\n",
       "    </tr>\n",
       "    <tr>\n",
       "      <th>DATE</th>\n",
       "      <th></th>\n",
       "      <th></th>\n",
       "      <th></th>\n",
       "      <th></th>\n",
       "    </tr>\n",
       "  </thead>\n",
       "  <tbody>\n",
       "    <tr>\n",
       "      <th>1952-01-01</th>\n",
       "      <td>13.190</td>\n",
       "      <td>359.820</td>\n",
       "      <td>156309.0</td>\n",
       "      <td>17452.454684</td>\n",
       "    </tr>\n",
       "    <tr>\n",
       "      <th>1952-04-01</th>\n",
       "      <td>13.206</td>\n",
       "      <td>361.030</td>\n",
       "      <td>156943.0</td>\n",
       "      <td>17419.273916</td>\n",
       "    </tr>\n",
       "    <tr>\n",
       "      <th>1952-07-01</th>\n",
       "      <td>13.354</td>\n",
       "      <td>367.701</td>\n",
       "      <td>157553.0</td>\n",
       "      <td>17476.592582</td>\n",
       "    </tr>\n",
       "    <tr>\n",
       "      <th>1952-10-01</th>\n",
       "      <td>13.390</td>\n",
       "      <td>380.812</td>\n",
       "      <td>158306.0</td>\n",
       "      <td>17965.225496</td>\n",
       "    </tr>\n",
       "    <tr>\n",
       "      <th>1953-01-01</th>\n",
       "      <td>13.393</td>\n",
       "      <td>387.980</td>\n",
       "      <td>158973.0</td>\n",
       "      <td>18222.505917</td>\n",
       "    </tr>\n",
       "    <tr>\n",
       "      <th>...</th>\n",
       "      <td>...</td>\n",
       "      <td>...</td>\n",
       "      <td>...</td>\n",
       "      <td>...</td>\n",
       "    </tr>\n",
       "    <tr>\n",
       "      <th>2006-10-01</th>\n",
       "      <td>84.770</td>\n",
       "      <td>14039.560</td>\n",
       "      <td>299835.0</td>\n",
       "      <td>55236.860553</td>\n",
       "    </tr>\n",
       "    <tr>\n",
       "      <th>2007-01-01</th>\n",
       "      <td>85.576</td>\n",
       "      <td>14215.651</td>\n",
       "      <td>300574.0</td>\n",
       "      <td>55266.677819</td>\n",
       "    </tr>\n",
       "    <tr>\n",
       "      <th>2007-04-01</th>\n",
       "      <td>86.171</td>\n",
       "      <td>14402.082</td>\n",
       "      <td>301254.0</td>\n",
       "      <td>55479.344902</td>\n",
       "    </tr>\n",
       "    <tr>\n",
       "      <th>2007-07-01</th>\n",
       "      <td>86.642</td>\n",
       "      <td>14564.117</td>\n",
       "      <td>302004.0</td>\n",
       "      <td>55659.973500</td>\n",
       "    </tr>\n",
       "    <tr>\n",
       "      <th>2007-10-01</th>\n",
       "      <td>86.993</td>\n",
       "      <td>14715.058</td>\n",
       "      <td>302807.0</td>\n",
       "      <td>55861.392784</td>\n",
       "    </tr>\n",
       "  </tbody>\n",
       "</table>\n",
       "<p>224 rows × 4 columns</p>\n",
       "</div>"
      ],
      "text/plain": [
       "            gdpdef        gdp       pop        rgdppc\n",
       "DATE                                                 \n",
       "1952-01-01  13.190    359.820  156309.0  17452.454684\n",
       "1952-04-01  13.206    361.030  156943.0  17419.273916\n",
       "1952-07-01  13.354    367.701  157553.0  17476.592582\n",
       "1952-10-01  13.390    380.812  158306.0  17965.225496\n",
       "1953-01-01  13.393    387.980  158973.0  18222.505917\n",
       "...            ...        ...       ...           ...\n",
       "2006-10-01  84.770  14039.560  299835.0  55236.860553\n",
       "2007-01-01  85.576  14215.651  300574.0  55266.677819\n",
       "2007-04-01  86.171  14402.082  301254.0  55479.344902\n",
       "2007-07-01  86.642  14564.117  302004.0  55659.973500\n",
       "2007-10-01  86.993  14715.058  302807.0  55861.392784\n",
       "\n",
       "[224 rows x 4 columns]"
      ]
     },
     "execution_count": 39,
     "metadata": {},
     "output_type": "execute_result"
    }
   ],
   "source": [
    "## data config\n",
    "start = '1900-01'\n",
    "end = '2007-12'\n",
    "series = {\n",
    "        'GDPDEF': 'gdpdef',  # gdp deflator\n",
    "        'GDP': 'gdp',  # gdp per capita\n",
    "        'POP': 'pop',  # population\n",
    "    }\n",
    "\n",
    "## pull the data\n",
    "df = FredReader(series.keys(), start=start, end=end).read().rename(columns=series).dropna()\n",
    "\n",
    "## real terms\n",
    "df['rgdppc'] = 1000000 * 100 * df['gdp'] / df['gdpdef'] / df['pop']\n",
    "# 1000000: gdp units\n",
    "# 100: gdpdef units\n",
    "\n",
    "df"
   ]
  },
  {
   "cell_type": "markdown",
   "metadata": {},
   "source": [
    "#### Figure"
   ]
  },
  {
   "cell_type": "code",
   "execution_count": null,
   "metadata": {},
   "outputs": [
    {
     "data": {
      "image/png": "[encoded data removed]",
      "text/plain": [
       "<Figure size 400x275 with 1 Axes>"
      ]
     },
     "metadata": {},
     "output_type": "display_data"
    }
   ],
   "source": [
    "## setup\n",
    "fig, ax = plt.subplots()\n",
    "fig.set_figwidth(4.5)\n",
    "fig.set_figheight(3)\n",
    "ax.set_yscale('log')\n",
    "ax.set_ylabel('US GDP per Capita (2017 Dollars)')\n",
    "\n",
    "## plot actual\n",
    "ax.plot(df.index, df['rgdppc'], 'k-', linewidth=1)\n",
    "\n",
    "## trend\n",
    "reg = sm.OLS(np.log(df['rgdppc']), sm.add_constant(np.arange(len(df)))).fit()\n",
    "ax.plot(df.index[[0, -1]], np.exp(reg.predict()[[0, -1]]), 'k--', linewidth=1)\n",
    "\n",
    "## final things\n",
    "fig.tight_layout()\n",
    "fig.savefig('paper/figures/growth_effects.pdf', bbox_inches='tight')"
   ]
  }
 ],
 "metadata": {
  "kernelspec": {
   "display_name": "base",
   "language": "python",
   "name": "python3"
  },
  "language_info": {
   "codemirror_mode": {
    "name": "ipython",
    "version": 3
   },
   "file_extension": ".py",
   "mimetype": "text/x-python",
   "name": "python",
   "nbconvert_exporter": "python",
   "pygments_lexer": "ipython3",
   "version": "3.12.7"
  }
 },
 "nbformat": 4,
 "nbformat_minor": 2
}
