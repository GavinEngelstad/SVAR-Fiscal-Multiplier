{
 "cells": [
  {
   "cell_type": "markdown",
   "metadata": {},
   "source": [
    "## Different Lags"
   ]
  },
  {
   "cell_type": "markdown",
   "metadata": {},
   "source": [
    "#### Config"
   ]
  },
  {
   "cell_type": "code",
   "execution_count": 9,
   "metadata": {},
   "outputs": [],
   "source": [
    "## load some packages\n",
    "from pandas_datareader.fred import FredReader  # gets data without a bunch of csvs\n",
    "from scipy.signal import detrend  # detrend series\n",
    "import matplotlib.pyplot as plt  # make plots\n",
    "import statsmodels.api as sm  # regressions\n",
    "import numpy as np  # math things\n",
    "\n",
    "# fonts look pretty\n",
    "plt.rcParams.update({\n",
    "        'text.usetex': True,\n",
    "        'font.family': 'serif',\n",
    "    })"
   ]
  },
  {
   "cell_type": "markdown",
   "metadata": {},
   "source": [
    "#### Data"
   ]
  },
  {
   "cell_type": "code",
   "execution_count": 10,
   "metadata": {},
   "outputs": [
    {
     "data": {
      "text/html": [
       "<div>\n",
       "<style scoped>\n",
       "    .dataframe tbody tr th:only-of-type {\n",
       "        vertical-align: middle;\n",
       "    }\n",
       "\n",
       "    .dataframe tbody tr th {\n",
       "        vertical-align: top;\n",
       "    }\n",
       "\n",
       "    .dataframe thead th {\n",
       "        text-align: right;\n",
       "    }\n",
       "</style>\n",
       "<table border=\"1\" class=\"dataframe\">\n",
       "  <thead>\n",
       "    <tr style=\"text-align: right;\">\n",
       "      <th></th>\n",
       "      <th>gdp</th>\n",
       "      <th>gov</th>\n",
       "      <th>tax</th>\n",
       "    </tr>\n",
       "    <tr>\n",
       "      <th>DATE</th>\n",
       "      <th></th>\n",
       "      <th></th>\n",
       "      <th></th>\n",
       "    </tr>\n",
       "  </thead>\n",
       "  <tbody>\n",
       "    <tr>\n",
       "      <th>1960-01-01</th>\n",
       "      <td>-6.207381</td>\n",
       "      <td>-15.411893</td>\n",
       "      <td>2.433646</td>\n",
       "    </tr>\n",
       "    <tr>\n",
       "      <th>1960-04-01</th>\n",
       "      <td>-7.552969</td>\n",
       "      <td>-15.118566</td>\n",
       "      <td>-0.275316</td>\n",
       "    </tr>\n",
       "    <tr>\n",
       "      <th>1960-07-01</th>\n",
       "      <td>-7.866166</td>\n",
       "      <td>-12.774345</td>\n",
       "      <td>-2.048241</td>\n",
       "    </tr>\n",
       "    <tr>\n",
       "      <th>1960-10-01</th>\n",
       "      <td>-9.961823</td>\n",
       "      <td>-12.190004</td>\n",
       "      <td>-4.701228</td>\n",
       "    </tr>\n",
       "    <tr>\n",
       "      <th>1961-01-01</th>\n",
       "      <td>-10.095264</td>\n",
       "      <td>-11.569745</td>\n",
       "      <td>-5.804134</td>\n",
       "    </tr>\n",
       "    <tr>\n",
       "      <th>...</th>\n",
       "      <td>...</td>\n",
       "      <td>...</td>\n",
       "      <td>...</td>\n",
       "    </tr>\n",
       "    <tr>\n",
       "      <th>2006-10-01</th>\n",
       "      <td>-1.566638</td>\n",
       "      <td>2.143878</td>\n",
       "      <td>8.361621</td>\n",
       "    </tr>\n",
       "    <tr>\n",
       "      <th>2007-01-01</th>\n",
       "      <td>-2.070254</td>\n",
       "      <td>2.162052</td>\n",
       "      <td>9.050781</td>\n",
       "    </tr>\n",
       "    <tr>\n",
       "      <th>2007-04-01</th>\n",
       "      <td>-2.263960</td>\n",
       "      <td>2.676012</td>\n",
       "      <td>8.469576</td>\n",
       "    </tr>\n",
       "    <tr>\n",
       "      <th>2007-07-01</th>\n",
       "      <td>-2.494009</td>\n",
       "      <td>2.851833</td>\n",
       "      <td>6.210542</td>\n",
       "    </tr>\n",
       "    <tr>\n",
       "      <th>2007-10-01</th>\n",
       "      <td>-2.670998</td>\n",
       "      <td>3.764866</td>\n",
       "      <td>5.170920</td>\n",
       "    </tr>\n",
       "  </tbody>\n",
       "</table>\n",
       "<p>192 rows × 3 columns</p>\n",
       "</div>"
      ],
      "text/plain": [
       "                  gdp        gov       tax\n",
       "DATE                                      \n",
       "1960-01-01  -6.207381 -15.411893  2.433646\n",
       "1960-04-01  -7.552969 -15.118566 -0.275316\n",
       "1960-07-01  -7.866166 -12.774345 -2.048241\n",
       "1960-10-01  -9.961823 -12.190004 -4.701228\n",
       "1961-01-01 -10.095264 -11.569745 -5.804134\n",
       "...               ...        ...       ...\n",
       "2006-10-01  -1.566638   2.143878  8.361621\n",
       "2007-01-01  -2.070254   2.162052  9.050781\n",
       "2007-04-01  -2.263960   2.676012  8.469576\n",
       "2007-07-01  -2.494009   2.851833  6.210542\n",
       "2007-10-01  -2.670998   3.764866  5.170920\n",
       "\n",
       "[192 rows x 3 columns]"
      ]
     },
     "execution_count": 10,
     "metadata": {},
     "output_type": "execute_result"
    }
   ],
   "source": [
    "## data config\n",
    "start = '1960-01'\n",
    "end = '2007-12'\n",
    "series = {\n",
    "        'GDPDEF': 'gdpdef',  # gdp deflator\n",
    "        'GDP': 'gdp',  # gdp\n",
    "        'GCE': 'gov',  # govt spending\n",
    "        'W006RC1Q027SBEA': 'tax',  # tax revenues\n",
    "    }\n",
    "\n",
    "## pull data\n",
    "## pull the data\n",
    "df = FredReader(series.keys(), start=start, end=end).read().rename(columns=series).dropna()\n",
    "\n",
    "## adjust series\n",
    "df = df[['gdp', 'gov', 'tax']].div(df['gdpdef'], axis=0)\n",
    "# predetrend, want to know how much higher gdp is than gov\n",
    "# so when we know 1% change in gov -> 1% change in gdp we can muliply it by that\n",
    "mult = (df['gdp'] / df['gov']).mean()\n",
    "for x in df.columns:\n",
    "    df[x] = detrend(np.log(df[x])) * 100\n",
    "\n",
    "df"
   ]
  },
  {
   "cell_type": "markdown",
   "metadata": {},
   "source": [
    "#### Results\n",
    "$A = $ matrix multiplied by movements ($u$)\n",
    "\n",
    "$B = $ matrix multiplied by error ($\\varepsilon$)"
   ]
  },
  {
   "cell_type": "markdown",
   "metadata": {},
   "source": [
    "#### Model 1\n",
    "Set $b_2 = 0$"
   ]
  },
  {
   "cell_type": "code",
   "execution_count": 11,
   "metadata": {},
   "outputs": [
    {
     "name": "stderr",
     "output_type": "stream",
     "text": [
      "/opt/miniconda3/lib/python3.12/site-packages/statsmodels/tsa/base/tsa_model.py:473: ValueWarning: No frequency information was provided, so inferred frequency QS-OCT will be used.\n",
      "  self._init_dates(dates, freq)\n",
      "/opt/miniconda3/lib/python3.12/site-packages/statsmodels/base/optimizer.py:19: FutureWarning: Keyword arguments have been passed to the optimizer that have no effect. The list of allowed keyword arguments for method ncg is: fhess_p, avextol, epsilon. The list of unsupported keyword arguments passed include: gtol. After release 0.14, this will raise.\n",
      "  warnings.warn(\n",
      "/opt/miniconda3/lib/python3.12/site-packages/statsmodels/tsa/base/tsa_model.py:473: ValueWarning: No frequency information was provided, so inferred frequency QS-OCT will be used.\n",
      "  self._init_dates(dates, freq)\n",
      "/opt/miniconda3/lib/python3.12/site-packages/statsmodels/tsa/base/tsa_model.py:473: ValueWarning: No frequency information was provided, so inferred frequency QS-OCT will be used.\n",
      "  self._init_dates(dates, freq)\n",
      "/opt/miniconda3/lib/python3.12/site-packages/statsmodels/tsa/base/tsa_model.py:473: ValueWarning: No frequency information was provided, so inferred frequency QS-OCT will be used.\n",
      "  self._init_dates(dates, freq)\n",
      "/opt/miniconda3/lib/python3.12/site-packages/statsmodels/tsa/base/tsa_model.py:473: ValueWarning: No frequency information was provided, so inferred frequency QS-OCT will be used.\n",
      "  self._init_dates(dates, freq)\n",
      "/opt/miniconda3/lib/python3.12/site-packages/statsmodels/tsa/base/tsa_model.py:473: ValueWarning: No frequency information was provided, so inferred frequency QS-OCT will be used.\n",
      "  self._init_dates(dates, freq)\n",
      "/opt/miniconda3/lib/python3.12/site-packages/statsmodels/tsa/base/tsa_model.py:473: ValueWarning: No frequency information was provided, so inferred frequency QS-OCT will be used.\n",
      "  self._init_dates(dates, freq)\n",
      "/opt/miniconda3/lib/python3.12/site-packages/statsmodels/tsa/base/tsa_model.py:473: ValueWarning: No frequency information was provided, so inferred frequency QS-OCT will be used.\n",
      "  self._init_dates(dates, freq)\n",
      "/opt/miniconda3/lib/python3.12/site-packages/statsmodels/tsa/base/tsa_model.py:473: ValueWarning: No frequency information was provided, so inferred frequency QS-OCT will be used.\n",
      "  self._init_dates(dates, freq)\n",
      "/opt/miniconda3/lib/python3.12/site-packages/statsmodels/tsa/base/tsa_model.py:473: ValueWarning: No frequency information was provided, so inferred frequency QS-OCT will be used.\n",
      "  self._init_dates(dates, freq)\n",
      "/opt/miniconda3/lib/python3.12/site-packages/statsmodels/tsa/base/tsa_model.py:473: ValueWarning: No frequency information was provided, so inferred frequency QS-OCT will be used.\n",
      "  self._init_dates(dates, freq)\n",
      "/opt/miniconda3/lib/python3.12/site-packages/statsmodels/tsa/base/tsa_model.py:473: ValueWarning: No frequency information was provided, so inferred frequency QS-OCT will be used.\n",
      "  self._init_dates(dates, freq)\n",
      "/opt/miniconda3/lib/python3.12/site-packages/statsmodels/tsa/base/tsa_model.py:473: ValueWarning: No frequency information was provided, so inferred frequency QS-OCT will be used.\n",
      "  self._init_dates(dates, freq)\n",
      "/opt/miniconda3/lib/python3.12/site-packages/statsmodels/tsa/base/tsa_model.py:473: ValueWarning: No frequency information was provided, so inferred frequency QS-OCT will be used.\n",
      "  self._init_dates(dates, freq)\n",
      "/opt/miniconda3/lib/python3.12/site-packages/statsmodels/tsa/base/tsa_model.py:473: ValueWarning: No frequency information was provided, so inferred frequency QS-OCT will be used.\n",
      "  self._init_dates(dates, freq)\n",
      "/opt/miniconda3/lib/python3.12/site-packages/statsmodels/tsa/base/tsa_model.py:473: ValueWarning: No frequency information was provided, so inferred frequency QS-OCT will be used.\n",
      "  self._init_dates(dates, freq)\n",
      "/opt/miniconda3/lib/python3.12/site-packages/statsmodels/tsa/base/tsa_model.py:473: ValueWarning: No frequency information was provided, so inferred frequency QS-OCT will be used.\n",
      "  self._init_dates(dates, freq)\n",
      "/opt/miniconda3/lib/python3.12/site-packages/statsmodels/tsa/base/tsa_model.py:473: ValueWarning: No frequency information was provided, so inferred frequency QS-OCT will be used.\n",
      "  self._init_dates(dates, freq)\n",
      "/opt/miniconda3/lib/python3.12/site-packages/statsmodels/tsa/base/tsa_model.py:473: ValueWarning: No frequency information was provided, so inferred frequency QS-OCT will be used.\n",
      "  self._init_dates(dates, freq)\n",
      "/opt/miniconda3/lib/python3.12/site-packages/statsmodels/tsa/base/tsa_model.py:473: ValueWarning: No frequency information was provided, so inferred frequency QS-OCT will be used.\n",
      "  self._init_dates(dates, freq)\n",
      "/opt/miniconda3/lib/python3.12/site-packages/statsmodels/tsa/base/tsa_model.py:473: ValueWarning: No frequency information was provided, so inferred frequency QS-OCT will be used.\n",
      "  self._init_dates(dates, freq)\n",
      "/opt/miniconda3/lib/python3.12/site-packages/statsmodels/tsa/base/tsa_model.py:473: ValueWarning: No frequency information was provided, so inferred frequency QS-OCT will be used.\n",
      "  self._init_dates(dates, freq)\n",
      "/opt/miniconda3/lib/python3.12/site-packages/statsmodels/tsa/base/tsa_model.py:473: ValueWarning: No frequency information was provided, so inferred frequency QS-OCT will be used.\n",
      "  self._init_dates(dates, freq)\n"
     ]
    },
    {
     "data": {
      "text/plain": [
       "[<matplotlib.lines.Line2D at 0x30e49c5f0>]"
      ]
     },
     "execution_count": 11,
     "metadata": {},
     "output_type": "execute_result"
    },
    {
     "data": {
      "image/png": "[encoded data removed]",
      "text/plain": [
       "<Figure size 640x480 with 1 Axes>"
      ]
     },
     "metadata": {},
     "output_type": "display_data"
    }
   ],
   "source": [
    "## config\n",
    "ls = np.arange(1, 24)\n",
    "A = np.array([[1, 'E', 'E'], [0, 1, 0], [1.7, 0, 1]])\n",
    "B = np.array([[1, 0, 0], [0, 1, 0], [0, 'E', 1]])\n",
    "T = 25\n",
    "i = 2\n",
    "\n",
    "## loop over lags, calcualte multiplier\n",
    "multipliers = []\n",
    "multiplier_errs = []\n",
    "for l in ls:\n",
    "    # calcaute svar\n",
    "    svar = sm.tsa.SVAR(df, svar_type='AB', A=A, B=B).fit(maxlags=l, solver='ncg')\n",
    "\n",
    "    # get the irf\n",
    "    irf = svar.irf(periods=T)\n",
    "    g_irf = irf.svar_irfs[:, :, i].T  # irf for a g shock\n",
    "    g_irf /= g_irf[2, 0]\n",
    "    g_irf_err = irf.stderr()[:, :, i].T / g_irf[2, 0]  # error band\n",
    "\n",
    "    ## get the multiplier\n",
    "    idx = np.abs(g_irf[0]).argmax()\n",
    "    max_gdp_change = g_irf[0, idx]\n",
    "    max_gdp_stderr = g_irf_err[0, idx]\n",
    "    multiplier = max_gdp_change * mult  # make comprable units\n",
    "    multiplier_err = max_gdp_stderr * mult\n",
    "\n",
    "    multipliers.append(multiplier)\n",
    "    multiplier_errs.append(multiplier_errs)\n",
    "\n",
    "## plot it\n",
    "fig, ax = plt.subplots()\n",
    "ax.plot(ls, multipliers)"
   ]
  },
  {
   "cell_type": "markdown",
   "metadata": {},
   "source": [
    "#### Model 2\n",
    "Set $c_2 = 0$"
   ]
  },
  {
   "cell_type": "code",
   "execution_count": 12,
   "metadata": {},
   "outputs": [
    {
     "name": "stderr",
     "output_type": "stream",
     "text": [
      "/opt/miniconda3/lib/python3.12/site-packages/statsmodels/tsa/base/tsa_model.py:473: ValueWarning: No frequency information was provided, so inferred frequency QS-OCT will be used.\n",
      "  self._init_dates(dates, freq)\n",
      "/opt/miniconda3/lib/python3.12/site-packages/statsmodels/tsa/base/tsa_model.py:473: ValueWarning: No frequency information was provided, so inferred frequency QS-OCT will be used.\n",
      "  self._init_dates(dates, freq)\n",
      "/opt/miniconda3/lib/python3.12/site-packages/statsmodels/tsa/base/tsa_model.py:473: ValueWarning: No frequency information was provided, so inferred frequency QS-OCT will be used.\n",
      "  self._init_dates(dates, freq)\n",
      "/opt/miniconda3/lib/python3.12/site-packages/statsmodels/tsa/base/tsa_model.py:473: ValueWarning: No frequency information was provided, so inferred frequency QS-OCT will be used.\n",
      "  self._init_dates(dates, freq)\n",
      "/opt/miniconda3/lib/python3.12/site-packages/statsmodels/base/optimizer.py:19: FutureWarning: Keyword arguments have been passed to the optimizer that have no effect. The list of allowed keyword arguments for method ncg is: fhess_p, avextol, epsilon. The list of unsupported keyword arguments passed include: gtol. After release 0.14, this will raise.\n",
      "  warnings.warn(\n",
      "/opt/miniconda3/lib/python3.12/site-packages/statsmodels/tsa/base/tsa_model.py:473: ValueWarning: No frequency information was provided, so inferred frequency QS-OCT will be used.\n",
      "  self._init_dates(dates, freq)\n",
      "/opt/miniconda3/lib/python3.12/site-packages/statsmodels/tsa/base/tsa_model.py:473: ValueWarning: No frequency information was provided, so inferred frequency QS-OCT will be used.\n",
      "  self._init_dates(dates, freq)\n",
      "/opt/miniconda3/lib/python3.12/site-packages/statsmodels/tsa/base/tsa_model.py:473: ValueWarning: No frequency information was provided, so inferred frequency QS-OCT will be used.\n",
      "  self._init_dates(dates, freq)\n",
      "/opt/miniconda3/lib/python3.12/site-packages/statsmodels/base/optimizer.py:19: FutureWarning: Keyword arguments have been passed to the optimizer that have no effect. The list of allowed keyword arguments for method ncg is: fhess_p, avextol, epsilon. The list of unsupported keyword arguments passed include: gtol. After release 0.14, this will raise.\n",
      "  warnings.warn(\n",
      "/opt/miniconda3/lib/python3.12/site-packages/statsmodels/tsa/base/tsa_model.py:473: ValueWarning: No frequency information was provided, so inferred frequency QS-OCT will be used.\n",
      "  self._init_dates(dates, freq)\n",
      "/opt/miniconda3/lib/python3.12/site-packages/statsmodels/tsa/base/tsa_model.py:473: ValueWarning: No frequency information was provided, so inferred frequency QS-OCT will be used.\n",
      "  self._init_dates(dates, freq)\n",
      "/opt/miniconda3/lib/python3.12/site-packages/statsmodels/tsa/base/tsa_model.py:473: ValueWarning: No frequency information was provided, so inferred frequency QS-OCT will be used.\n",
      "  self._init_dates(dates, freq)\n",
      "/opt/miniconda3/lib/python3.12/site-packages/statsmodels/tsa/base/tsa_model.py:473: ValueWarning: No frequency information was provided, so inferred frequency QS-OCT will be used.\n",
      "  self._init_dates(dates, freq)\n",
      "/opt/miniconda3/lib/python3.12/site-packages/statsmodels/tsa/base/tsa_model.py:473: ValueWarning: No frequency information was provided, so inferred frequency QS-OCT will be used.\n",
      "  self._init_dates(dates, freq)\n",
      "/opt/miniconda3/lib/python3.12/site-packages/statsmodels/base/optimizer.py:19: FutureWarning: Keyword arguments have been passed to the optimizer that have no effect. The list of allowed keyword arguments for method ncg is: fhess_p, avextol, epsilon. The list of unsupported keyword arguments passed include: gtol. After release 0.14, this will raise.\n",
      "  warnings.warn(\n",
      "/opt/miniconda3/lib/python3.12/site-packages/statsmodels/tsa/base/tsa_model.py:473: ValueWarning: No frequency information was provided, so inferred frequency QS-OCT will be used.\n",
      "  self._init_dates(dates, freq)\n",
      "/opt/miniconda3/lib/python3.12/site-packages/statsmodels/tsa/base/tsa_model.py:473: ValueWarning: No frequency information was provided, so inferred frequency QS-OCT will be used.\n",
      "  self._init_dates(dates, freq)\n",
      "/opt/miniconda3/lib/python3.12/site-packages/statsmodels/tsa/base/tsa_model.py:473: ValueWarning: No frequency information was provided, so inferred frequency QS-OCT will be used.\n",
      "  self._init_dates(dates, freq)\n",
      "/opt/miniconda3/lib/python3.12/site-packages/statsmodels/tsa/base/tsa_model.py:473: ValueWarning: No frequency information was provided, so inferred frequency QS-OCT will be used.\n",
      "  self._init_dates(dates, freq)\n",
      "/opt/miniconda3/lib/python3.12/site-packages/statsmodels/tsa/base/tsa_model.py:473: ValueWarning: No frequency information was provided, so inferred frequency QS-OCT will be used.\n",
      "  self._init_dates(dates, freq)\n"
     ]
    },
    {
     "name": "stdout",
     "output_type": "stream",
     "text": [
      "1 0.7750218141171729 0.0\n",
      "2 0.9869911250118519 0.07430175841690823\n",
      "3 1.0857114852217564 0.11603098983869226\n",
      "4 1.0352296076039953 0.11525542641090192\n",
      "5 0.9919369219102485 0.11615187119256269\n",
      "6 1.0007290328656875 0.11673528065782794\n",
      "7 0.9760373926780854 0.1154307168072578\n",
      "8 1.010708562552102 0.1181056688079642\n",
      "9 1.0812397609376736 0.18565865987456842\n",
      "10 1.103738587174953 0.17994753960822182\n",
      "11 1.0885974661583182 0.11631226562470014\n",
      "12 1.0725616606092383 0.11733842268237775\n",
      "13 1.090487439030261 0.11974390161453144\n",
      "14 1.0973707532662629 0.12115336293108846\n",
      "15 1.1367231493482686 0.12204949566674554\n",
      "16 1.1500583582314325 0.12870846460243823\n",
      "17 1.1340651340229733 0.20855065235929435\n"
     ]
    },
    {
     "name": "stderr",
     "output_type": "stream",
     "text": [
      "/opt/miniconda3/lib/python3.12/site-packages/statsmodels/tsa/base/tsa_model.py:473: ValueWarning: No frequency information was provided, so inferred frequency QS-OCT will be used.\n",
      "  self._init_dates(dates, freq)\n",
      "/opt/miniconda3/lib/python3.12/site-packages/statsmodels/base/model.py:607: ConvergenceWarning: Maximum Likelihood optimization failed to converge. Check mle_retvals\n",
      "  warnings.warn(\"Maximum Likelihood optimization failed to \"\n",
      "/opt/miniconda3/lib/python3.12/site-packages/statsmodels/tsa/base/tsa_model.py:473: ValueWarning: No frequency information was provided, so inferred frequency QS-OCT will be used.\n",
      "  self._init_dates(dates, freq)\n"
     ]
    },
    {
     "name": "stdout",
     "output_type": "stream",
     "text": [
      "18 1.1344506172566504 0.21616877619046726\n",
      "19 1.1145296328920615 0.13276578512899617\n",
      "20 1.0691380461495834 0.1364809157286128\n",
      "21 1.0831986716228708 0.1406935010024092\n",
      "22 1.0790213953311227 0.23051436721135318\n",
      "23 1.13152975847814 0.23264100520107406\n"
     ]
    },
    {
     "name": "stderr",
     "output_type": "stream",
     "text": [
      "/opt/miniconda3/lib/python3.12/site-packages/statsmodels/base/optimizer.py:19: FutureWarning: Keyword arguments have been passed to the optimizer that have no effect. The list of allowed keyword arguments for method ncg is: fhess_p, avextol, epsilon. The list of unsupported keyword arguments passed include: gtol. After release 0.14, this will raise.\n",
      "  warnings.warn(\n",
      "/opt/miniconda3/lib/python3.12/site-packages/statsmodels/tsa/base/tsa_model.py:473: ValueWarning: No frequency information was provided, so inferred frequency QS-OCT will be used.\n",
      "  self._init_dates(dates, freq)\n",
      "/opt/miniconda3/lib/python3.12/site-packages/statsmodels/tsa/base/tsa_model.py:473: ValueWarning: No frequency information was provided, so inferred frequency QS-OCT will be used.\n",
      "  self._init_dates(dates, freq)\n",
      "/opt/miniconda3/lib/python3.12/site-packages/statsmodels/tsa/base/tsa_model.py:473: ValueWarning: No frequency information was provided, so inferred frequency QS-OCT will be used.\n",
      "  self._init_dates(dates, freq)\n",
      "/opt/miniconda3/lib/python3.12/site-packages/statsmodels/tsa/base/tsa_model.py:473: ValueWarning: No frequency information was provided, so inferred frequency QS-OCT will be used.\n",
      "  self._init_dates(dates, freq)\n"
     ]
    }
   ],
   "source": [
    "## config\n",
    "ls = np.arange(1, 24)\n",
    "A = np.array([[1, 'E', 'E'], [0, 1, 0], [1.7, 0, 1]])\n",
    "B = np.array([[1, 0, 0], [0, 1, 'E'], [0, 0, 1]])\n",
    "T = 25\n",
    "i = 2\n",
    "\n",
    "## loop over lags, calcualte multiplier\n",
    "for l in ls:\n",
    "    # calcaute svar\n",
    "    svar = sm.tsa.SVAR(df, svar_type='AB', A=A, B=B).fit(maxlags=l, solver='ncg')\n",
    "\n",
    "    # get the irf\n",
    "    irf = svar.irf(periods=T)\n",
    "    g_irf = irf.svar_irfs[:, :, i].T  # irf for a g shock\n",
    "    g_irf /= g_irf[2, 0]\n",
    "    g_irf_err = irf.stderr()[:, :, i].T / g_irf[2, 0]  # error band\n",
    "\n",
    "    ## get the multiplier\n",
    "    idx = np.abs(g_irf[0]).argmax()\n",
    "    max_gdp_change = g_irf[0, idx]\n",
    "    max_gdp_stderr = g_irf_err[0, idx]\n",
    "    multiplier = max_gdp_change * mult  # make comprable units\n",
    "    multiplier_err = max_gdp_stderr * mult\n",
    "\n",
    "    print(l, multiplier, multiplier_err)"
   ]
  }
 ],
 "metadata": {
  "kernelspec": {
   "display_name": "base",
   "language": "python",
   "name": "python3"
  },
  "language_info": {
   "codemirror_mode": {
    "name": "ipython",
    "version": 3
   },
   "file_extension": ".py",
   "mimetype": "text/x-python",
   "name": "python",
   "nbconvert_exporter": "python",
   "pygments_lexer": "ipython3",
   "version": "3.12.7"
  }
 },
 "nbformat": 4,
 "nbformat_minor": 2
}
